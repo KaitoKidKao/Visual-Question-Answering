{
  "cells": [
    {
      "cell_type": "markdown",
      "metadata": {
        "id": "OOSjmpMw5gxy"
      },
      "source": [
        "## 0. Download dataset\n",
        "**Note:** If you can't download using gdown due to limited number of downloads, please download it manually and upload it to your drive, then copy it from the drive to colab.\n",
        "```python\n",
        "from google.colab import drive\n",
        "\n",
        "drive.mount('/content/drive')\n",
        "!cp /path/to/dataset/on/your/drive .\n",
        "```"
      ]
    },
    {
      "cell_type": "code",
      "execution_count": 1,
      "metadata": {
        "colab": {
          "base_uri": "https://localhost:8080/"
        },
        "id": "94MQBB3h9WT_",
        "outputId": "6cab9878-75b2-46dd-9ba4-60cf4c9864ca"
      },
      "outputs": [
        {
          "output_type": "stream",
          "name": "stdout",
          "text": [
            "/usr/local/lib/python3.10/dist-packages/gdown/cli.py:121: FutureWarning: Option `--id` was deprecated in version 4.3.1 and will be removed in 5.0. You don't need to pass it anymore to use a file ID.\n",
            "  warnings.warn(\n",
            "Downloading...\n",
            "From: https://drive.google.com/uc?id=1kc6XNqHZJg27KeBuoAoYj70_1rT92191\n",
            "To: /content/vqa_coco_dataset.zip\n",
            "100% 196M/196M [00:02<00:00, 90.6MB/s]\n"
          ]
        }
      ],
      "source": [
        "# https://drive.google.com/file/d/1kc6XNqHZJg27KeBuoAoYj70_1rT92191/view?usp=sharing\n",
        "!gdown --id 1kc6XNqHZJg27KeBuoAoYj70_1rT92191"
      ]
    },
    {
      "cell_type": "code",
      "execution_count": 2,
      "metadata": {
        "id": "rb5Rh0fGAStN"
      },
      "outputs": [],
      "source": [
        "!unzip -q vqa_coco_dataset.zip"
      ]
    },
    {
      "cell_type": "markdown",
      "metadata": {
        "id": "VljPGwOLCGoj"
      },
      "source": [
        "## 1. Import libraries"
      ]
    },
    {
      "cell_type": "code",
      "source": [
        "!pip install timm -q"
      ],
      "metadata": {
        "id": "KDAACoro5r38"
      },
      "execution_count": 1,
      "outputs": []
    },
    {
      "cell_type": "code",
      "execution_count": 2,
      "metadata": {
        "id": "zwmJUbxKCPjS"
      },
      "outputs": [],
      "source": [
        "import torch\n",
        "import torch.nn as nn\n",
        "import torchtext\n",
        "import os\n",
        "import numpy as np\n",
        "import pandas as pd\n",
        "import spacy\n",
        "import timm\n",
        "import matplotlib.pyplot as plt\n",
        "\n",
        "from PIL import Image\n",
        "from torch.utils.data import Dataset, DataLoader\n",
        "from sklearn.model_selection import train_test_split\n",
        "from torchtext.data.utils import get_tokenizer\n",
        "from torchtext.vocab import build_vocab_from_iterator\n",
        "from torchvision import transforms"
      ]
    },
    {
      "cell_type": "markdown",
      "metadata": {
        "id": "Iu20gzLxCu2y"
      },
      "source": [
        "## 2. Read dataset"
      ]
    },
    {
      "cell_type": "code",
      "execution_count": 3,
      "metadata": {
        "id": "ZOxeYUBvCSki"
      },
      "outputs": [],
      "source": [
        "train_data = []\n",
        "train_set_path = './vaq2.0.TrainImages.txt'\n",
        "\n",
        "with open(train_set_path, \"r\") as f:\n",
        "    lines = f.readlines()\n",
        "    for line in lines:\n",
        "        temp = line.split('\\t')\n",
        "        qa = temp[1].split('?')\n",
        "\n",
        "        if len(qa) == 3:\n",
        "            answer = qa[2].strip()\n",
        "        else:\n",
        "            answer = qa[1].strip()\n",
        "\n",
        "        data_sample = {\n",
        "            'image_path': temp[0][:-2],\n",
        "            'question': qa[0] + '?',\n",
        "            'answer': answer\n",
        "        }\n",
        "        train_data.append(data_sample)"
      ]
    },
    {
      "cell_type": "code",
      "execution_count": 4,
      "metadata": {
        "id": "EiZ7OwSfCrKa"
      },
      "outputs": [],
      "source": [
        "val_data = []\n",
        "val_set_path = './vaq2.0.DevImages.txt'\n",
        "\n",
        "with open(val_set_path, \"r\") as f:\n",
        "    lines = f.readlines()\n",
        "    for line in lines:\n",
        "        temp = line.split('\\t')\n",
        "        qa = temp[1].split('?')\n",
        "\n",
        "        if len(qa) == 3:\n",
        "            answer = qa[2].strip()\n",
        "        else:\n",
        "            answer = qa[1].strip()\n",
        "\n",
        "        data_sample = {\n",
        "            'image_path': temp[0][:-2],\n",
        "            'question': qa[0] + '?',\n",
        "            'answer': answer\n",
        "        }\n",
        "        val_data.append(data_sample)"
      ]
    },
    {
      "cell_type": "code",
      "execution_count": 5,
      "metadata": {
        "id": "ZoX0dQbjEx53"
      },
      "outputs": [],
      "source": [
        "test_data = []\n",
        "test_set_path = './vaq2.0.TestImages.txt'\n",
        "\n",
        "with open(test_set_path, \"r\") as f:\n",
        "    lines = f.readlines()\n",
        "    for line in lines:\n",
        "        temp = line.split('\\t')\n",
        "        qa = temp[1].split('?')\n",
        "\n",
        "        if len(qa) == 3:\n",
        "            answer = qa[2].strip()\n",
        "        else:\n",
        "            answer = qa[1].strip()\n",
        "\n",
        "        data_sample = {\n",
        "            'image_path': temp[0][:-2],\n",
        "            'question': qa[0] + '?',\n",
        "            'answer': answer\n",
        "        }\n",
        "        test_data.append(data_sample)"
      ]
    },
    {
      "cell_type": "markdown",
      "metadata": {
        "id": "A_n5-R4NMqBx"
      },
      "source": [
        "## 3. Data Preprocessing"
      ]
    },
    {
      "cell_type": "code",
      "execution_count": 6,
      "metadata": {
        "id": "_RqGo2gUNwLW"
      },
      "outputs": [],
      "source": [
        "eng = spacy.load(\"en_core_web_sm\") # Load the English model to tokenize English text\n",
        "\n",
        "def get_tokens(data_iter):\n",
        "    for sample in data_iter:\n",
        "        question = sample['question']\n",
        "\n",
        "        yield [token.text for token in eng.tokenizer(question)]\n",
        "\n",
        "\n",
        "vocab = build_vocab_from_iterator(\n",
        "    get_tokens(train_data),\n",
        "    min_freq=2,\n",
        "    specials= ['<pad>', '<sos>', '<eos>', '<unk>'],\n",
        "    special_first=True\n",
        ")\n",
        "vocab.set_default_index(vocab['<unk>'])"
      ]
    },
    {
      "cell_type": "code",
      "execution_count": 7,
      "metadata": {
        "id": "NDRHRaKyRiq6",
        "colab": {
          "base_uri": "https://localhost:8080/"
        },
        "outputId": "d16b124c-2f1a-4f00-8ef4-0d5e0be84d88"
      },
      "outputs": [
        {
          "output_type": "execute_result",
          "data": {
            "text/plain": [
              "1678"
            ]
          },
          "metadata": {},
          "execution_count": 7
        }
      ],
      "source": [
        "len(vocab)"
      ]
    },
    {
      "cell_type": "code",
      "execution_count": 8,
      "metadata": {
        "id": "G8cMLRR5Nyrm"
      },
      "outputs": [],
      "source": [
        "def tokenize(question, max_seq_len):\n",
        "    tokens = [token.text for token in eng.tokenizer(question)]\n",
        "    sequence = [vocab[token] for token in tokens]\n",
        "    if len(sequence) < max_seq_len:\n",
        "        sequence += [vocab['<pad>']] * (max_seq_len - len(sequence))\n",
        "    else:\n",
        "        sequence = sequence[:max_seq_len]\n",
        "\n",
        "    return sequence"
      ]
    },
    {
      "cell_type": "code",
      "execution_count": 9,
      "metadata": {
        "id": "GNfi1xqHTDgA",
        "colab": {
          "base_uri": "https://localhost:8080/"
        },
        "outputId": "d79f65f7-7aea-443d-8f2c-2d3aea6be516"
      },
      "outputs": [
        {
          "output_type": "execute_result",
          "data": {
            "text/plain": [
              "[6, 5, 7, 16, 21, 75, 3, 4, 0, 0, 0, 0, 0, 0, 0, 0, 0, 0, 0, 0]"
            ]
          },
          "metadata": {},
          "execution_count": 9
        }
      ],
      "source": [
        "example_question = \"Is this a picture of an apple?\"\n",
        "max_seq_len = 20\n",
        "\n",
        "tokenize(example_question, max_seq_len)"
      ]
    },
    {
      "cell_type": "code",
      "source": [
        "classes = set([sample['answer'] for sample in train_data])\n",
        "classes_to_idx = {\n",
        "    cls_name: idx for idx, cls_name in enumerate(classes)\n",
        "}\n",
        "idx_to_classes = {\n",
        "    idx: cls_name for idx, cls_name in enumerate(classes)\n",
        "}\n",
        "print(idx_to_classes)"
      ],
      "metadata": {
        "colab": {
          "base_uri": "https://localhost:8080/"
        },
        "id": "d6Qf8EMA-gjK",
        "outputId": "e378185b-ecc9-471d-f386-2bf3079c448e"
      },
      "execution_count": 10,
      "outputs": [
        {
          "output_type": "stream",
          "name": "stdout",
          "text": [
            "{0: 'yes', 1: 'no'}\n"
          ]
        }
      ]
    },
    {
      "cell_type": "markdown",
      "metadata": {
        "id": "9UznC-J7FVTf"
      },
      "source": [
        "## 4. Create Pytorch dataset"
      ]
    },
    {
      "cell_type": "code",
      "execution_count": 11,
      "metadata": {
        "id": "fXAFcSjnGlZF"
      },
      "outputs": [],
      "source": [
        "class VQADataset(Dataset):\n",
        "    def __init__(\n",
        "        self,\n",
        "        data,\n",
        "        classes_to_idx,\n",
        "        max_seq_len=20,\n",
        "        transform=None,\n",
        "        root_dir='/content/val2014-resised/'\n",
        "    ):\n",
        "        self.transform = transform\n",
        "        self.data = data\n",
        "        self.max_seq_len = max_seq_len\n",
        "        self.root_dir = root_dir\n",
        "        self.classes_to_idx = classes_to_idx\n",
        "\n",
        "    def __len__(self):\n",
        "        return len(self.data)\n",
        "\n",
        "    def __getitem__(self, index):\n",
        "        img_path = os.path.join(self.root_dir, self.data[index]['image_path'])\n",
        "        img = Image.open(img_path).convert('RGB')\n",
        "        if self.transform:\n",
        "            img = self.transform(img)\n",
        "\n",
        "        question = self.data[index]['question']\n",
        "        question = tokenize(question, self.max_seq_len)\n",
        "        question = torch.tensor(question, dtype=torch.long)\n",
        "\n",
        "        label = self.data[index]['answer']\n",
        "        label = classes_to_idx[label]\n",
        "        label = torch.tensor(label, dtype=torch.long)\n",
        "\n",
        "        return img, question, label"
      ]
    },
    {
      "cell_type": "code",
      "source": [
        "transform = transforms.Compose([\n",
        "    transforms.Resize((224, 224)),\n",
        "    transforms.ToTensor(),\n",
        "    transforms.Normalize((0.485, 0.456, 0.406), (0.229, 0.224, 0.225)),\n",
        "])"
      ],
      "metadata": {
        "id": "AtRtdtYzrgeB"
      },
      "execution_count": 12,
      "outputs": []
    },
    {
      "cell_type": "code",
      "execution_count": 13,
      "metadata": {
        "id": "NmyFmD_GL-BQ"
      },
      "outputs": [],
      "source": [
        "train_dataset = VQADataset(\n",
        "    train_data,\n",
        "    classes_to_idx=classes_to_idx,\n",
        "    transform=transform\n",
        ")\n",
        "val_dataset = VQADataset(\n",
        "    val_data,\n",
        "    classes_to_idx=classes_to_idx,\n",
        "    transform=transform\n",
        ")\n",
        "test_dataset = VQADataset(\n",
        "    test_data,\n",
        "    classes_to_idx=classes_to_idx,\n",
        "    transform=transform\n",
        ")"
      ]
    },
    {
      "cell_type": "code",
      "execution_count": 14,
      "metadata": {
        "id": "AToEIVctirQK"
      },
      "outputs": [],
      "source": [
        "train_batch_size = 128\n",
        "test_batch_size = 32\n",
        "\n",
        "train_loader = DataLoader(\n",
        "    train_dataset,\n",
        "    batch_size=train_batch_size,\n",
        "    shuffle=True\n",
        ")\n",
        "val_loader = DataLoader(\n",
        "    val_dataset,\n",
        "    batch_size=test_batch_size,\n",
        "    shuffle=False\n",
        ")\n",
        "test_loader = DataLoader(\n",
        "    test_dataset,\n",
        "    batch_size=test_batch_size,\n",
        "    shuffle=False\n",
        ")"
      ]
    },
    {
      "cell_type": "markdown",
      "metadata": {
        "id": "fOcnB225J90K"
      },
      "source": [
        "## 5. Create Model"
      ]
    },
    {
      "cell_type": "code",
      "execution_count": 15,
      "metadata": {
        "id": "UwZNqfIvLmup"
      },
      "outputs": [],
      "source": [
        "class VQAModel(nn.Module):\n",
        "    def __init__(\n",
        "        self,\n",
        "        n_classes,\n",
        "        img_model_name='resnet50',\n",
        "        embeddding_dim=300,\n",
        "        n_layers=1,\n",
        "        hidden_size=128,\n",
        "        dropout_prob=0.2\n",
        "    ):\n",
        "        super(VQAModel, self).__init__()\n",
        "        self.image_encoder = timm.create_model(\n",
        "            img_model_name,\n",
        "            pretrained=True,\n",
        "            num_classes=hidden_size\n",
        "        )\n",
        "\n",
        "        self.embedding = nn.Embedding(len(vocab), embeddding_dim)\n",
        "        self.lstm1 = nn.LSTM(\n",
        "            input_size=embeddding_dim,\n",
        "            hidden_size=hidden_size,\n",
        "            num_layers=n_layers,\n",
        "            batch_first=True,\n",
        "            bidirectional=True\n",
        "        )\n",
        "        self.lstm2 = nn.LSTM(\n",
        "            input_size=hidden_size*3,\n",
        "            hidden_size=hidden_size,\n",
        "            num_layers=n_layers,\n",
        "            batch_first=True,\n",
        "            bidirectional=True\n",
        "        )\n",
        "        self.dropout = nn.Dropout(dropout_prob)\n",
        "        self.fc = nn.Linear(hidden_size * 2, n_classes)\n",
        "\n",
        "    def forward(self, img, text):\n",
        "        img_features = self.image_encoder(img)\n",
        "\n",
        "        text_emb = self.embedding(text)\n",
        "        lstm_out, _ = self.lstm1(text_emb)\n",
        "\n",
        "        lstm_out = lstm_out[:, -1, :]\n",
        "\n",
        "        combined = torch.cat((img_features, lstm_out), dim=1)\n",
        "        x, _ = self.lstm2(combined)\n",
        "        x = self.dropout(x)\n",
        "        x = self.fc(x)\n",
        "\n",
        "        return x"
      ]
    },
    {
      "cell_type": "code",
      "execution_count": 16,
      "metadata": {
        "id": "obxbBWAbkg2A"
      },
      "outputs": [],
      "source": [
        "n_classes = len(classes)\n",
        "img_model_name = 'resnet50'\n",
        "hidden_size = 128\n",
        "n_layers = 1\n",
        "embeddding_dim = 64\n",
        "dropout_prob = 0.2\n",
        "device = 'cuda' if torch.cuda.is_available() else 'cpu'\n",
        "\n",
        "model = VQAModel(\n",
        "    n_classes=n_classes,\n",
        "    img_model_name=img_model_name,\n",
        "    embeddding_dim=embeddding_dim,\n",
        "    n_layers=n_layers,\n",
        "    hidden_size=hidden_size,\n",
        "    dropout_prob=dropout_prob\n",
        ").to(device)"
      ]
    },
    {
      "cell_type": "code",
      "execution_count": 17,
      "metadata": {
        "id": "ZzhJzxrGmWSO",
        "colab": {
          "base_uri": "https://localhost:8080/"
        },
        "outputId": "13e3c3d3-f524-4335-82e5-5d37b33c66fe"
      },
      "outputs": [
        {
          "output_type": "stream",
          "name": "stdout",
          "text": [
            "torch.Size([128, 2])\n"
          ]
        }
      ],
      "source": [
        "images, questions, labels = next(iter(train_loader))\n",
        "\n",
        "model.eval()\n",
        "with torch.no_grad():\n",
        "    images = images.to(device)\n",
        "    questions = questions.to(device)\n",
        "    output = model(images, questions)\n",
        "    print(output.shape)"
      ]
    },
    {
      "cell_type": "markdown",
      "metadata": {
        "id": "OmPEn5s-mjJe"
      },
      "source": [
        "## 6. Training"
      ]
    },
    {
      "cell_type": "code",
      "execution_count": 18,
      "metadata": {
        "id": "pBIA8pH0rEHF"
      },
      "outputs": [],
      "source": [
        "def evaluate(model, dataloader, criterion, device):\n",
        "    model.eval()\n",
        "    correct = 0\n",
        "    total = 0\n",
        "    losses = []\n",
        "    with torch.no_grad():\n",
        "        for image, question, labels in dataloader:\n",
        "            image, question, labels = image.to(device), question.to(device), labels.to(device)\n",
        "            outputs = model(image, question)\n",
        "            loss = criterion(outputs, labels)\n",
        "            losses.append(loss.item())\n",
        "            _, predicted = torch.max(outputs.data, 1)\n",
        "            total += labels.size(0)\n",
        "            correct += (predicted == labels).sum().item()\n",
        "\n",
        "    loss = sum(losses) / len(losses)\n",
        "    acc = correct / total\n",
        "\n",
        "    return loss, acc"
      ]
    },
    {
      "cell_type": "code",
      "execution_count": 19,
      "metadata": {
        "id": "MxNXk8_xrkon"
      },
      "outputs": [],
      "source": [
        "def fit(\n",
        "    model,\n",
        "    train_loader,\n",
        "    val_loader,\n",
        "    criterion,\n",
        "    optimizer,\n",
        "    scheduler,\n",
        "    device,\n",
        "    epochs\n",
        "):\n",
        "    train_losses = []\n",
        "    val_losses = []\n",
        "\n",
        "    for epoch in range(epochs):\n",
        "        batch_train_losses = []\n",
        "\n",
        "        model.train()\n",
        "        for idx, (images, questions, labels) in enumerate(train_loader):\n",
        "            images = images.to(device)\n",
        "            questions = questions.to(device)\n",
        "            labels = labels.to(device)\n",
        "\n",
        "            optimizer.zero_grad()\n",
        "            outputs = model(images, questions)\n",
        "            loss = criterion(outputs, labels)\n",
        "            loss.backward()\n",
        "            optimizer.step()\n",
        "\n",
        "            batch_train_losses.append(loss.item())\n",
        "\n",
        "        train_loss = sum(batch_train_losses) / len(batch_train_losses)\n",
        "        train_losses.append(train_loss)\n",
        "\n",
        "        val_loss, val_acc = evaluate(\n",
        "            model, val_loader,\n",
        "            criterion, device\n",
        "        )\n",
        "        val_losses.append(val_loss)\n",
        "\n",
        "        print(f'EPOCH {epoch + 1}:\\tTrain loss: {train_loss:.4f}\\tVal loss: {val_loss:.4f}\\tVal Acc: {val_acc}')\n",
        "\n",
        "        scheduler.step()\n",
        "\n",
        "    return train_losses, val_losses"
      ]
    },
    {
      "cell_type": "code",
      "execution_count": 20,
      "metadata": {
        "id": "6hj65HGor2pv"
      },
      "outputs": [],
      "source": [
        "lr = 1e-2\n",
        "epochs = 50\n",
        "\n",
        "scheduler_step_size = epochs * 0.6\n",
        "criterion = nn.CrossEntropyLoss()\n",
        "\n",
        "optimizer = torch.optim.Adam(\n",
        "    model.parameters(),\n",
        "    lr=lr\n",
        ")\n",
        "scheduler = torch.optim.lr_scheduler.StepLR(\n",
        "    optimizer,\n",
        "    step_size=scheduler_step_size,\n",
        "    gamma=0.1\n",
        ")"
      ]
    },
    {
      "cell_type": "code",
      "execution_count": 21,
      "metadata": {
        "id": "z5Qmw6efr5HG",
        "colab": {
          "base_uri": "https://localhost:8080/"
        },
        "outputId": "e75bdfa0-e348-4a79-99c8-4318dd76e5ff"
      },
      "outputs": [
        {
          "output_type": "stream",
          "name": "stdout",
          "text": [
            "EPOCH 1:\tTrain loss: 0.7225\tVal loss: 0.6914\tVal Acc: 0.5358606557377049\n",
            "EPOCH 2:\tTrain loss: 0.6940\tVal loss: 0.6956\tVal Acc: 0.4682377049180328\n",
            "EPOCH 3:\tTrain loss: 0.6944\tVal loss: 0.6901\tVal Acc: 0.5358606557377049\n",
            "EPOCH 4:\tTrain loss: 0.6944\tVal loss: 0.6924\tVal Acc: 0.5358606557377049\n",
            "EPOCH 5:\tTrain loss: 0.6935\tVal loss: 0.6910\tVal Acc: 0.5358606557377049\n",
            "EPOCH 6:\tTrain loss: 0.6936\tVal loss: 0.6962\tVal Acc: 0.48206967213114754\n",
            "EPOCH 7:\tTrain loss: 0.6950\tVal loss: 0.6919\tVal Acc: 0.5358606557377049\n",
            "EPOCH 8:\tTrain loss: 0.6933\tVal loss: 0.6921\tVal Acc: 0.5358606557377049\n",
            "EPOCH 9:\tTrain loss: 0.6935\tVal loss: 0.6920\tVal Acc: 0.5358606557377049\n",
            "EPOCH 10:\tTrain loss: 0.6944\tVal loss: 0.6919\tVal Acc: 0.5358606557377049\n",
            "EPOCH 11:\tTrain loss: 0.6935\tVal loss: 0.6918\tVal Acc: 0.5358606557377049\n",
            "EPOCH 12:\tTrain loss: 0.6937\tVal loss: 0.6916\tVal Acc: 0.5348360655737705\n",
            "EPOCH 13:\tTrain loss: 0.6931\tVal loss: 0.6909\tVal Acc: 0.5358606557377049\n",
            "EPOCH 14:\tTrain loss: 0.6927\tVal loss: 0.6946\tVal Acc: 0.4641393442622951\n",
            "EPOCH 15:\tTrain loss: 0.6931\tVal loss: 0.6914\tVal Acc: 0.5368852459016393\n",
            "EPOCH 16:\tTrain loss: 0.6926\tVal loss: 0.6914\tVal Acc: 0.5389344262295082\n",
            "EPOCH 17:\tTrain loss: 0.6935\tVal loss: 0.6909\tVal Acc: 0.5358606557377049\n",
            "EPOCH 18:\tTrain loss: 0.6932\tVal loss: 0.6931\tVal Acc: 0.5261270491803278\n",
            "EPOCH 19:\tTrain loss: 0.6922\tVal loss: 0.6920\tVal Acc: 0.5358606557377049\n",
            "EPOCH 20:\tTrain loss: 0.6928\tVal loss: 0.6928\tVal Acc: 0.5332991803278688\n",
            "EPOCH 21:\tTrain loss: 0.6926\tVal loss: 0.6926\tVal Acc: 0.5332991803278688\n",
            "EPOCH 22:\tTrain loss: 0.6936\tVal loss: 0.6911\tVal Acc: 0.5343237704918032\n",
            "EPOCH 23:\tTrain loss: 0.6963\tVal loss: 0.6931\tVal Acc: 0.5358606557377049\n",
            "EPOCH 24:\tTrain loss: 0.6953\tVal loss: 0.6937\tVal Acc: 0.47540983606557374\n",
            "EPOCH 25:\tTrain loss: 0.6948\tVal loss: 0.6926\tVal Acc: 0.5302254098360656\n",
            "EPOCH 26:\tTrain loss: 0.6943\tVal loss: 0.6950\tVal Acc: 0.4918032786885246\n",
            "EPOCH 27:\tTrain loss: 0.6944\tVal loss: 0.6911\tVal Acc: 0.5358606557377049\n",
            "EPOCH 28:\tTrain loss: 0.6936\tVal loss: 0.6930\tVal Acc: 0.5348360655737705\n",
            "EPOCH 29:\tTrain loss: 0.6963\tVal loss: 0.6948\tVal Acc: 0.4707991803278688\n",
            "EPOCH 30:\tTrain loss: 0.6967\tVal loss: 0.6973\tVal Acc: 0.4764344262295082\n",
            "EPOCH 31:\tTrain loss: 0.6935\tVal loss: 0.6909\tVal Acc: 0.5358606557377049\n",
            "EPOCH 32:\tTrain loss: 0.6929\tVal loss: 0.6905\tVal Acc: 0.5358606557377049\n",
            "EPOCH 33:\tTrain loss: 0.6930\tVal loss: 0.6917\tVal Acc: 0.5358606557377049\n",
            "EPOCH 34:\tTrain loss: 0.6925\tVal loss: 0.6909\tVal Acc: 0.5358606557377049\n",
            "EPOCH 35:\tTrain loss: 0.6924\tVal loss: 0.6912\tVal Acc: 0.5358606557377049\n",
            "EPOCH 36:\tTrain loss: 0.6925\tVal loss: 0.6917\tVal Acc: 0.5358606557377049\n",
            "EPOCH 37:\tTrain loss: 0.6925\tVal loss: 0.6911\tVal Acc: 0.5358606557377049\n",
            "EPOCH 38:\tTrain loss: 0.6926\tVal loss: 0.6915\tVal Acc: 0.5358606557377049\n",
            "EPOCH 39:\tTrain loss: 0.6928\tVal loss: 0.6907\tVal Acc: 0.5358606557377049\n",
            "EPOCH 40:\tTrain loss: 0.6921\tVal loss: 0.6909\tVal Acc: 0.5358606557377049\n",
            "EPOCH 41:\tTrain loss: 0.6927\tVal loss: 0.6906\tVal Acc: 0.5358606557377049\n",
            "EPOCH 42:\tTrain loss: 0.6923\tVal loss: 0.6911\tVal Acc: 0.5358606557377049\n",
            "EPOCH 43:\tTrain loss: 0.6925\tVal loss: 0.6918\tVal Acc: 0.5358606557377049\n",
            "EPOCH 44:\tTrain loss: 0.6921\tVal loss: 0.6907\tVal Acc: 0.5358606557377049\n",
            "EPOCH 45:\tTrain loss: 0.6925\tVal loss: 0.6908\tVal Acc: 0.5358606557377049\n",
            "EPOCH 46:\tTrain loss: 0.6923\tVal loss: 0.6913\tVal Acc: 0.5358606557377049\n",
            "EPOCH 47:\tTrain loss: 0.6923\tVal loss: 0.6910\tVal Acc: 0.5358606557377049\n",
            "EPOCH 48:\tTrain loss: 0.6922\tVal loss: 0.6912\tVal Acc: 0.5358606557377049\n",
            "EPOCH 49:\tTrain loss: 0.6927\tVal loss: 0.6909\tVal Acc: 0.5358606557377049\n",
            "EPOCH 50:\tTrain loss: 0.6923\tVal loss: 0.6912\tVal Acc: 0.5358606557377049\n"
          ]
        }
      ],
      "source": [
        "train_losses, val_losses = fit(\n",
        "    model,\n",
        "    train_loader,\n",
        "    val_loader,\n",
        "    criterion,\n",
        "    optimizer,\n",
        "    scheduler,\n",
        "    device,\n",
        "    epochs\n",
        ")"
      ]
    },
    {
      "cell_type": "code",
      "execution_count": 22,
      "metadata": {
        "id": "xIobHWIptBQm",
        "colab": {
          "base_uri": "https://localhost:8080/",
          "height": 487
        },
        "outputId": "5784c533-8181-4028-e5af-61e6bfe51cd8"
      },
      "outputs": [
        {
          "output_type": "display_data",
          "data": {
            "text/plain": [
              "<Figure size 1200x500 with 2 Axes>"
            ],
            "image/png": "[encoded data removed]"
          },
          "metadata": {}
        }
      ],
      "source": [
        "fig, ax = plt.subplots(1, 2, figsize=(12, 5))\n",
        "ax[0].plot(train_losses)\n",
        "ax[0].set_title('Training Loss')\n",
        "ax[0].set_xlabel('Epoch')\n",
        "ax[0].set_ylabel('Loss')\n",
        "ax[1].plot(val_losses, color='orange')\n",
        "ax[1].set_title('Val Loss')\n",
        "ax[1].set_xlabel('Epoch')\n",
        "ax[1].set_ylabel('Loss')\n",
        "plt.show()"
      ]
    },
    {
      "cell_type": "markdown",
      "metadata": {
        "id": "JPFgeiArr6zp"
      },
      "source": [
        "## 7. Evaluation"
      ]
    },
    {
      "cell_type": "code",
      "execution_count": 24,
      "metadata": {
        "id": "psvbHQpis5bm",
        "colab": {
          "base_uri": "https://localhost:8080/"
        },
        "outputId": "b5b9ef47-2cdd-4332-f126-33ed4963ac10"
      },
      "outputs": [
        {
          "output_type": "stream",
          "name": "stdout",
          "text": [
            "Evaluation on val/test dataset\n",
            "Val accuracy:  0.5358606557377049\n",
            "Test accuracy:  0.5489614243323442\n"
          ]
        }
      ],
      "source": [
        "val_loss, val_acc = evaluate(\n",
        "    model,\n",
        "    val_loader,\n",
        "    criterion,\n",
        "    device\n",
        ")\n",
        "test_loss, test_acc = evaluate(\n",
        "    model,\n",
        "    test_loader,\n",
        "    criterion,\n",
        "    device\n",
        ")\n",
        "\n",
        "print('Evaluation on val/test dataset')\n",
        "print('Val accuracy: ', val_acc)\n",
        "print('Test accuracy: ', test_acc)"
      ]
    }
  ],
  "metadata": {
    "accelerator": "GPU",
    "colab": {
      "provenance": []
    },
    "kernelspec": {
      "display_name": "Python 3",
      "name": "python3"
    },
    "language_info": {
      "name": "python"
    }
  },
  "nbformat": 4,
  "nbformat_minor": 0
}