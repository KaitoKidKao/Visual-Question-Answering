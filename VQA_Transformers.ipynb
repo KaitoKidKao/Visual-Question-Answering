{
 "cells": [
  {
   "cell_type": "markdown",
   "metadata": {
    "id": "OOSjmpMw5gxy"
   },
   "source": [
    "## 0. Download dataset\n",
    "**Note:** If you can't download using gdown due to limited number of downloads, please download it manually and upload it to your drive, then copy it from the drive to colab.\n",
    "```python\n",
    "from google.colab import drive\n",
    "\n",
    "drive.mount('/content/drive')\n",
    "!cp /path/to/dataset/on/your/drive .\n",
    "```"
   ]
  },
  {
   "cell_type": "code",
   "execution_count": null,
   "metadata": {
    "colab": {
     "base_uri": "https://localhost:8080/"
    },
    "id": "94MQBB3h9WT_",
    "outputId": "a034a682-f3fb-4523-a34f-fd99e944c750"
   },
   "outputs": [
    {
     "name": "stdout",
     "output_type": "stream",
     "text": [
      "/usr/local/lib/python3.10/dist-packages/gdown/cli.py:121: FutureWarning: Option `--id` was deprecated in version 4.3.1 and will be removed in 5.0. You don't need to pass it anymore to use a file ID.\n",
      "  warnings.warn(\n",
      "Downloading...\n",
      "From: https://drive.google.com/uc?id=1kc6XNqHZJg27KeBuoAoYj70_1rT92191\n",
      "To: /content/vqa_coco_dataset.zip\n",
      "100% 196M/196M [00:03<00:00, 62.6MB/s]\n"
     ]
    }
   ],
   "source": [
    "# https://drive.google.com/file/d/1kc6XNqHZJg27KeBuoAoYj70_1rT92191/view?usp=sharing\n",
    "!gdown --id 1kc6XNqHZJg27KeBuoAoYj70_1rT92191"
   ]
  },
  {
   "cell_type": "code",
   "execution_count": null,
   "metadata": {
    "id": "rb5Rh0fGAStN"
   },
   "outputs": [],
   "source": [
    "!unzip -q vqa_coco_dataset.zip"
   ]
  },
  {
   "cell_type": "markdown",
   "metadata": {
    "id": "VljPGwOLCGoj"
   },
   "source": [
    "## 1. Import libraries"
   ]
  },
  {
   "cell_type": "code",
   "execution_count": null,
   "metadata": {
    "colab": {
     "base_uri": "https://localhost:8080/"
    },
    "id": "KDAACoro5r38",
    "outputId": "88c3480a-b8c8-4683-f689-c1f8dfb39821",
    "scrolled": true
   },
   "outputs": [
    {
     "name": "stdout",
     "output_type": "stream",
     "text": [
      "\u001b[2K     \u001b[90m━━━━━━━━━━━━━━━━━━━━━━━━━━━━━━━━━━━━━━━━\u001b[0m \u001b[32m2.2/2.2 MB\u001b[0m \u001b[31m10.9 MB/s\u001b[0m eta \u001b[36m0:00:00\u001b[0m\n",
      "\u001b[?25h"
     ]
    }
   ],
   "source": [
    "!pip install timm -q"
   ]
  },
  {
   "cell_type": "code",
   "execution_count": 10,
   "metadata": {
    "id": "zwmJUbxKCPjS",
    "scrolled": false
   },
   "outputs": [],
   "source": [
    "import torch\n",
    "import torch.nn as nn\n",
    "import torchtext\n",
    "import os\n",
    "import numpy as np\n",
    "import pandas as pd\n",
    "import spacy\n",
    "import timm\n",
    "import matplotlib.pyplot as plt\n",
    "\n",
    "from PIL import Image\n",
    "from torch.utils.data import Dataset, DataLoader\n",
    "from sklearn.model_selection import train_test_split\n",
    "from torchtext.data.utils import get_tokenizer\n",
    "from torchtext.vocab import build_vocab_from_iterator\n",
    "from torchvision import transforms\n",
    "from transformers import ViTModel, ViTImageProcessor\n",
    "from transformers import AutoTokenizer, RobertaModel"
   ]
  },
  {
   "cell_type": "markdown",
   "metadata": {
    "id": "Iu20gzLxCu2y"
   },
   "source": [
    "## 2. Read dataset"
   ]
  },
  {
   "cell_type": "code",
   "execution_count": 2,
   "metadata": {
    "id": "ZOxeYUBvCSki"
   },
   "outputs": [],
   "source": [
    "train_data = []\n",
    "train_set_path = 'datasets/vaq2.0.TrainImages.txt'\n",
    "\n",
    "with open(train_set_path, \"r\") as f:\n",
    "    lines = f.readlines()\n",
    "    for line in lines:\n",
    "        temp = line.split('\\t')\n",
    "        qa = temp[1].split('?')\n",
    "\n",
    "        if len(qa) == 3:\n",
    "            answer = qa[2].strip()\n",
    "        else:\n",
    "            answer = qa[1].strip()\n",
    "\n",
    "        data_sample = {\n",
    "            'image_path': temp[0][:-2],\n",
    "            'question': qa[0] + '?',\n",
    "            'answer': answer\n",
    "        }\n",
    "        train_data.append(data_sample)"
   ]
  },
  {
   "cell_type": "code",
   "execution_count": 3,
   "metadata": {
    "id": "EiZ7OwSfCrKa"
   },
   "outputs": [],
   "source": [
    "val_data = []\n",
    "val_set_path = 'datasets/vaq2.0.DevImages.txt'\n",
    "\n",
    "with open(val_set_path, \"r\") as f:\n",
    "    lines = f.readlines()\n",
    "    for line in lines:\n",
    "        temp = line.split('\\t')\n",
    "        qa = temp[1].split('?')\n",
    "\n",
    "        if len(qa) == 3:\n",
    "            answer = qa[2].strip()\n",
    "        else:\n",
    "            answer = qa[1].strip()\n",
    "\n",
    "        data_sample = {\n",
    "            'image_path': temp[0][:-2],\n",
    "            'question': qa[0] + '?',\n",
    "            'answer': answer\n",
    "        }\n",
    "        val_data.append(data_sample)"
   ]
  },
  {
   "cell_type": "code",
   "execution_count": 4,
   "metadata": {
    "id": "ZoX0dQbjEx53"
   },
   "outputs": [],
   "source": [
    "test_data = []\n",
    "test_set_path = 'datasets/vaq2.0.TestImages.txt'\n",
    "\n",
    "with open(test_set_path, \"r\") as f:\n",
    "    lines = f.readlines()\n",
    "    for line in lines:\n",
    "        temp = line.split('\\t')\n",
    "        qa = temp[1].split('?')\n",
    "\n",
    "        if len(qa) == 3:\n",
    "            answer = qa[2].strip()\n",
    "        else:\n",
    "            answer = qa[1].strip()\n",
    "\n",
    "        data_sample = {\n",
    "            'image_path': temp[0][:-2],\n",
    "            'question': qa[0] + '?',\n",
    "            'answer': answer\n",
    "        }\n",
    "        test_data.append(data_sample)"
   ]
  },
  {
   "cell_type": "code",
   "execution_count": 5,
   "metadata": {
    "colab": {
     "base_uri": "https://localhost:8080/"
    },
    "id": "d6Qf8EMA-gjK",
    "outputId": "ac738584-2709-46ba-bfe7-b541ac2a9555"
   },
   "outputs": [
    {
     "name": "stdout",
     "output_type": "stream",
     "text": [
      "{0: 'no', 1: 'yes'}\n"
     ]
    }
   ],
   "source": [
    "classes = set([sample['answer'] for sample in train_data])\n",
    "classes_to_idx = {\n",
    "    cls_name: idx for idx, cls_name in enumerate(classes)\n",
    "}\n",
    "idx_to_classes = {\n",
    "    idx: cls_name for idx, cls_name in enumerate(classes)\n",
    "}\n",
    "print(idx_to_classes)"
   ]
  },
  {
   "cell_type": "markdown",
   "metadata": {
    "id": "9UznC-J7FVTf"
   },
   "source": [
    "## 3. Create Pytorch dataset"
   ]
  },
  {
   "cell_type": "code",
   "execution_count": 100,
   "metadata": {
    "id": "fXAFcSjnGlZF"
   },
   "outputs": [],
   "source": [
    "class VQADataset(Dataset):\n",
    "    def __init__(\n",
    "        self,\n",
    "        data,\n",
    "        classes_to_idx,\n",
    "        img_feature_extractor,\n",
    "        text_tokenizer,\n",
    "        device,\n",
    "        root_dir='/content/val2014-resised/'\n",
    "    ):\n",
    "        self.data = data\n",
    "        self.root_dir = root_dir\n",
    "        self.classes_to_idx = classes_to_idx\n",
    "        self.img_feature_extractor = img_feature_extractor\n",
    "        self.text_tokenizer = text_tokenizer\n",
    "        self.device = device\n",
    "\n",
    "    def __len__(self):\n",
    "        return len(self.data)\n",
    "\n",
    "    def __getitem__(self, index):\n",
    "        img_path = os.path.join(self.root_dir, self.data[index]['image_path'])\n",
    "        img = Image.open(img_path).convert('RGB')\n",
    "        \n",
    "        if self.img_feature_extractor:\n",
    "            img = self.img_feature_extractor(images=img, return_tensors=\"pt\")\n",
    "            img = {k: v.to(self.device).squeeze(0) for k, v in img.items()}\n",
    "            \n",
    "        question = self.data[index]['question']\n",
    "        if self.text_tokenizer:\n",
    "            question = self.text_tokenizer(\n",
    "                question, \n",
    "                padding=\"max_length\", \n",
    "                max_length=20, \n",
    "                truncation=True,\n",
    "                return_tensors=\"pt\"\n",
    "            )\n",
    "            question = {k: v.to(self.device).squeeze(0) for k, v in question.items()}\n",
    "\n",
    "\n",
    "        label = self.data[index]['answer']\n",
    "        label = torch.tensor(\n",
    "            classes_to_idx[label],\n",
    "            dtype=torch.long\n",
    "        ).to(device)\n",
    "            \n",
    "        sample = {\n",
    "            'image': img,\n",
    "            'question': question,\n",
    "            'label': label\n",
    "        }\n",
    "            \n",
    "        return sample"
   ]
  },
  {
   "cell_type": "code",
   "execution_count": 101,
   "metadata": {
    "id": "NmyFmD_GL-BQ"
   },
   "outputs": [],
   "source": [
    "img_feature_extractor = ViTImageProcessor.from_pretrained(\"google/vit-base-patch16-224\")\n",
    "text_tokenizer = AutoTokenizer.from_pretrained(\"roberta-base\")\n",
    "device = 'cuda' if torch.cuda.is_available() else 'cpu'\n",
    "\n",
    "train_dataset = VQADataset(\n",
    "    train_data,\n",
    "    classes_to_idx=classes_to_idx,\n",
    "    img_feature_extractor=img_feature_extractor,\n",
    "    text_tokenizer=text_tokenizer,\n",
    "    label_encoder=label_encoder,\n",
    "    device=device\n",
    ")\n",
    "val_dataset = VQADataset(\n",
    "    val_data,\n",
    "    classes_to_idx=classes_to_idx,\n",
    "    img_feature_extractor=img_feature_extractor,\n",
    "    text_tokenizer=text_tokenizer,\n",
    "    label_encoder=label_encoder,\n",
    "    device=device\n",
    ")\n",
    "test_dataset = VQADataset(\n",
    "    test_data,\n",
    "    classes_to_idx=classes_to_idx,\n",
    "    img_feature_extractor=img_feature_extractor,\n",
    "    text_tokenizer=text_tokenizer,\n",
    "    label_encoder=label_encoder,\n",
    "    device=device\n",
    ")"
   ]
  },
  {
   "cell_type": "code",
   "execution_count": 142,
   "metadata": {
    "id": "AToEIVctirQK",
    "scrolled": true
   },
   "outputs": [],
   "source": [
    "train_batch_size = 256\n",
    "test_batch_size = 32\n",
    "\n",
    "train_loader = DataLoader(\n",
    "    train_dataset,\n",
    "    batch_size=train_batch_size,\n",
    "    shuffle=True\n",
    ")\n",
    "val_loader = DataLoader(\n",
    "    val_dataset,\n",
    "    batch_size=test_batch_size,\n",
    "    shuffle=False\n",
    ")\n",
    "test_loader = DataLoader(\n",
    "    test_dataset,\n",
    "    batch_size=test_batch_size,\n",
    "    shuffle=False\n",
    ")"
   ]
  },
  {
   "cell_type": "markdown",
   "metadata": {
    "id": "fOcnB225J90K"
   },
   "source": [
    "# 5. Create Model"
   ]
  },
  {
   "cell_type": "code",
   "execution_count": 143,
   "metadata": {
    "id": "PTI-Byg3syEu"
   },
   "outputs": [],
   "source": [
    "class VisualEncoder(nn.Module):\n",
    "    def __init__(self):\n",
    "        super(VisualEncoder, self).__init__()\n",
    "        self.model = ViTModel.from_pretrained(\"google/vit-base-patch16-224\")\n",
    "        \n",
    "    def forward(self, inputs):\n",
    "        outputs = self.model(**inputs)\n",
    "\n",
    "        return outputs.pooler_output"
   ]
  },
  {
   "cell_type": "code",
   "execution_count": 144,
   "metadata": {
    "id": "QZ42bHClszGG"
   },
   "outputs": [],
   "source": [
    "class TextEncoder(nn.Module):\n",
    "    def __init__(self):\n",
    "        super(TextEncoder, self).__init__()\n",
    "        self.model = RobertaModel.from_pretrained(\"roberta-base\")\n",
    "\n",
    "    def forward(self, inputs):\n",
    "        outputs = self.model(**inputs)\n",
    "\n",
    "        return outputs.pooler_output"
   ]
  },
  {
   "cell_type": "code",
   "execution_count": 153,
   "metadata": {
    "id": "FggG1E0ftSUX"
   },
   "outputs": [],
   "source": [
    "class Classifier(nn.Module):\n",
    "    def __init__(\n",
    "        self, \n",
    "        input_size=768*2, \n",
    "        hidden_size=512,\n",
    "        n_layers=1,\n",
    "        dropout_prob=0.2,\n",
    "        n_classes=2\n",
    "    ):\n",
    "        super(Classifier,self).__init__()\n",
    "        self.lstm = nn.LSTM(\n",
    "            input_size, \n",
    "            hidden_size, \n",
    "            num_layers=n_layers,\n",
    "            batch_first=True,\n",
    "            bidirectional=True\n",
    "        )\n",
    "        self.dropout = nn.Dropout(dropout_prob)\n",
    "        self.fc1 = nn.Linear(hidden_size*2, n_classes)\n",
    "        \n",
    "    def forward(self,x):\n",
    "        x, _ = self.lstm(x)\n",
    "        x = self.dropout(x)\n",
    "        x = self.fc1(x)\n",
    "\n",
    "        return x"
   ]
  },
  {
   "cell_type": "code",
   "execution_count": 154,
   "metadata": {
    "id": "IjrAeibMtg5H"
   },
   "outputs": [],
   "source": [
    "class VQAModel(nn.Module):\n",
    "    def __init__(\n",
    "        self,\n",
    "        visual_encoder,\n",
    "        text_encoder,\n",
    "        classifier\n",
    "    ):\n",
    "        super(VQAModel, self).__init__()\n",
    "        self.visual_encoder = visual_encoder\n",
    "        self.text_encoder = text_encoder\n",
    "        self.classifier = classifier\n",
    "        \n",
    "\n",
    "    def forward(self, image, answer):\n",
    "        text_out = self.text_encoder(answer)\n",
    "        image_out = self.visual_encoder(image)\n",
    "        x = torch.cat((text_out, image_out), dim=1)\n",
    "        x = self.classifier(x)\n",
    "\n",
    "        return x\n",
    "\n",
    "    def freeze(self, visual=True, textual=True, clas=False):\n",
    "        if visual:\n",
    "            for n,p in self.visual_encoder.named_parameters():\n",
    "                p.requires_grad = False\n",
    "        if textual:\n",
    "            for n,p in self.text_encoder.named_parameters():\n",
    "                p.requires_grad = False\n",
    "        if clas:\n",
    "            for n,p in self.classifier.named_parameters():\n",
    "                p.requires_grad = False"
   ]
  },
  {
   "cell_type": "code",
   "execution_count": 158,
   "metadata": {
    "id": "obxbBWAbkg2A"
   },
   "outputs": [
    {
     "name": "stderr",
     "output_type": "stream",
     "text": [
      "Some weights of RobertaModel were not initialized from the model checkpoint at roberta-base and are newly initialized: ['roberta.pooler.dense.weight', 'roberta.pooler.dense.bias']\n",
      "You should probably TRAIN this model on a down-stream task to be able to use it for predictions and inference.\n",
      "Some weights of ViTModel were not initialized from the model checkpoint at google/vit-base-patch16-224 and are newly initialized: ['vit.pooler.dense.bias', 'vit.pooler.dense.weight']\n",
      "You should probably TRAIN this model on a down-stream task to be able to use it for predictions and inference.\n"
     ]
    }
   ],
   "source": [
    "n_classes = len(classes)\n",
    "hidden_size = 1024\n",
    "n_layers = 1\n",
    "dropout_prob = 0.2\n",
    "\n",
    "text_encoder = TextEncoder().to(device)\n",
    "visual_encoder = VisualEncoder().to(device)\n",
    "classifier = Classifier(\n",
    "    hidden_size=hidden_size,\n",
    "    n_layers=n_layers,\n",
    "    dropout_prob=dropout_prob,\n",
    "    n_classes=n_classes\n",
    ").to(device)\n",
    "\n",
    "model = VQAModel(\n",
    "    visual_encoder=visual_encoder,\n",
    "    text_encoder=text_encoder,\n",
    "    classifier=classifier\n",
    ").to(device)\n",
    "model.freeze()"
   ]
  },
  {
   "cell_type": "code",
   "execution_count": 159,
   "metadata": {
    "id": "ZzhJzxrGmWSO",
    "scrolled": false
   },
   "outputs": [
    {
     "name": "stdout",
     "output_type": "stream",
     "text": [
      "torch.Size([256, 2])\n"
     ]
    }
   ],
   "source": [
    "inputs = next(iter(train_loader))\n",
    "\n",
    "model.eval()\n",
    "with torch.no_grad():\n",
    "    image = inputs['image']\n",
    "    question = inputs['question']\n",
    "    output = model(image, question)\n",
    "    print(output.shape)"
   ]
  },
  {
   "cell_type": "markdown",
   "metadata": {
    "id": "OmPEn5s-mjJe"
   },
   "source": [
    "## 6. Training"
   ]
  },
  {
   "cell_type": "code",
   "execution_count": 160,
   "metadata": {
    "id": "pBIA8pH0rEHF"
   },
   "outputs": [],
   "source": [
    "def evaluate(model, dataloader, criterion):\n",
    "    model.eval()\n",
    "    correct = 0\n",
    "    total = 0\n",
    "    losses = []\n",
    "    with torch.no_grad():\n",
    "        for idx, inputs in enumerate(dataloader):\n",
    "            images = inputs['image']\n",
    "            questions = inputs['question']\n",
    "            labels = inputs['label']\n",
    "            outputs = model(images, questions)\n",
    "            loss = criterion(outputs, labels)\n",
    "            losses.append(loss.item())\n",
    "            _, predicted = torch.max(outputs.data, 1)\n",
    "            total += labels.size(0)\n",
    "            correct += (predicted == labels).sum().item()\n",
    "\n",
    "    loss = sum(losses) / len(losses)\n",
    "    acc = correct / total\n",
    "\n",
    "    return loss, acc"
   ]
  },
  {
   "cell_type": "code",
   "execution_count": 161,
   "metadata": {
    "id": "MxNXk8_xrkon"
   },
   "outputs": [],
   "source": [
    "def fit(\n",
    "    model,\n",
    "    train_loader,\n",
    "    val_loader,\n",
    "    criterion,\n",
    "    optimizer,\n",
    "    scheduler,\n",
    "    epochs\n",
    "):\n",
    "    train_losses = []\n",
    "    val_losses = []\n",
    "\n",
    "    for epoch in range(epochs):\n",
    "        batch_train_losses = []\n",
    "\n",
    "        model.train()\n",
    "        for idx, inputs in enumerate(train_loader):\n",
    "            images = inputs['image']\n",
    "            questions = inputs['question']\n",
    "            labels = inputs['label']\n",
    "\n",
    "            optimizer.zero_grad()\n",
    "            outputs = model(images, questions)\n",
    "            loss = criterion(outputs, labels)\n",
    "            loss.backward()\n",
    "            optimizer.step()\n",
    "\n",
    "            batch_train_losses.append(loss.item())\n",
    "\n",
    "        train_loss = sum(batch_train_losses) / len(batch_train_losses)\n",
    "        train_losses.append(train_loss)\n",
    "\n",
    "        val_loss, val_acc = evaluate(\n",
    "            model, val_loader,\n",
    "            criterion\n",
    "        )\n",
    "        val_losses.append(val_loss)\n",
    "\n",
    "        print(f'EPOCH {epoch + 1}:\\tTrain loss: {train_loss:.4f}\\tVal loss: {val_loss:.4f}\\tVal Acc: {val_acc}')\n",
    "\n",
    "        scheduler.step()\n",
    "\n",
    "    return train_losses, val_losses"
   ]
  },
  {
   "cell_type": "code",
   "execution_count": 162,
   "metadata": {
    "id": "6hj65HGor2pv"
   },
   "outputs": [],
   "source": [
    "lr = 1e-2\n",
    "epochs = 50\n",
    "scheduler_step_size = epochs * 0.6\n",
    "criterion = nn.CrossEntropyLoss()\n",
    "\n",
    "optimizer = torch.optim.Adam(\n",
    "    model.parameters(),\n",
    "    lr=lr\n",
    ")\n",
    "scheduler = torch.optim.lr_scheduler.StepLR(\n",
    "    optimizer,\n",
    "    step_size=scheduler_step_size,\n",
    "    gamma=0.1\n",
    ")"
   ]
  },
  {
   "cell_type": "code",
   "execution_count": 163,
   "metadata": {
    "colab": {
     "base_uri": "https://localhost:8080/"
    },
    "id": "z5Qmw6efr5HG",
    "outputId": "3aefadc9-2755-4afe-f66f-b0d3f693422e",
    "scrolled": false
   },
   "outputs": [
    {
     "name": "stdout",
     "output_type": "stream",
     "text": [
      "EPOCH 1:\tTrain loss: 1.7915\tVal loss: 0.6914\tVal Acc: 0.5332991803278688\n",
      "EPOCH 2:\tTrain loss: 0.7350\tVal loss: 0.6907\tVal Acc: 0.5322745901639344\n",
      "EPOCH 3:\tTrain loss: 0.7119\tVal loss: 0.7013\tVal Acc: 0.5358606557377049\n",
      "EPOCH 4:\tTrain loss: 0.7047\tVal loss: 0.6995\tVal Acc: 0.48206967213114754\n",
      "EPOCH 5:\tTrain loss: 0.6959\tVal loss: 0.7380\tVal Acc: 0.5358606557377049\n",
      "EPOCH 6:\tTrain loss: 0.7403\tVal loss: 0.6921\tVal Acc: 0.5363729508196722\n",
      "EPOCH 7:\tTrain loss: 0.6921\tVal loss: 0.7845\tVal Acc: 0.4641393442622951\n",
      "EPOCH 8:\tTrain loss: 0.7046\tVal loss: 0.7447\tVal Acc: 0.4713114754098361\n",
      "EPOCH 9:\tTrain loss: 0.6904\tVal loss: 0.7015\tVal Acc: 0.5158811475409836\n",
      "EPOCH 10:\tTrain loss: 0.7283\tVal loss: 0.6828\tVal Acc: 0.5635245901639344\n",
      "EPOCH 11:\tTrain loss: 0.6811\tVal loss: 0.7248\tVal Acc: 0.5445696721311475\n",
      "EPOCH 12:\tTrain loss: 0.6774\tVal loss: 0.7093\tVal Acc: 0.5532786885245902\n",
      "EPOCH 13:\tTrain loss: 0.6708\tVal loss: 0.6681\tVal Acc: 0.5978483606557377\n",
      "EPOCH 14:\tTrain loss: 0.6523\tVal loss: 0.6924\tVal Acc: 0.5650614754098361\n",
      "EPOCH 15:\tTrain loss: 0.6599\tVal loss: 0.6695\tVal Acc: 0.5988729508196722\n",
      "EPOCH 16:\tTrain loss: 0.6530\tVal loss: 0.6777\tVal Acc: 0.5829918032786885\n",
      "EPOCH 17:\tTrain loss: 0.6622\tVal loss: 0.7201\tVal Acc: 0.5619877049180327\n",
      "EPOCH 18:\tTrain loss: 0.6743\tVal loss: 0.6687\tVal Acc: 0.6029713114754098\n",
      "EPOCH 19:\tTrain loss: 0.6470\tVal loss: 0.6664\tVal Acc: 0.5988729508196722\n",
      "EPOCH 20:\tTrain loss: 0.6325\tVal loss: 0.7124\tVal Acc: 0.5809426229508197\n",
      "EPOCH 21:\tTrain loss: 0.6619\tVal loss: 0.6640\tVal Acc: 0.6014344262295082\n",
      "EPOCH 22:\tTrain loss: 0.6154\tVal loss: 0.6582\tVal Acc: 0.6121926229508197\n",
      "EPOCH 23:\tTrain loss: 0.6307\tVal loss: 0.8527\tVal Acc: 0.49436475409836067\n",
      "EPOCH 24:\tTrain loss: 0.6815\tVal loss: 0.7524\tVal Acc: 0.5332991803278688\n",
      "EPOCH 25:\tTrain loss: 0.6348\tVal loss: 0.6792\tVal Acc: 0.5917008196721312\n",
      "EPOCH 26:\tTrain loss: 0.5867\tVal loss: 0.6546\tVal Acc: 0.6260245901639344\n",
      "EPOCH 27:\tTrain loss: 0.5932\tVal loss: 0.6628\tVal Acc: 0.6137295081967213\n",
      "EPOCH 28:\tTrain loss: 0.5958\tVal loss: 0.7143\tVal Acc: 0.600922131147541\n",
      "EPOCH 29:\tTrain loss: 0.6033\tVal loss: 0.6656\tVal Acc: 0.610655737704918\n",
      "EPOCH 30:\tTrain loss: 0.6074\tVal loss: 0.6616\tVal Acc: 0.6290983606557377\n",
      "EPOCH 31:\tTrain loss: 0.5619\tVal loss: 0.6559\tVal Acc: 0.6326844262295082\n",
      "EPOCH 32:\tTrain loss: 0.5556\tVal loss: 0.6545\tVal Acc: 0.6270491803278688\n",
      "EPOCH 33:\tTrain loss: 0.5550\tVal loss: 0.6553\tVal Acc: 0.6275614754098361\n",
      "EPOCH 34:\tTrain loss: 0.5546\tVal loss: 0.6500\tVal Acc: 0.6347336065573771\n",
      "EPOCH 35:\tTrain loss: 0.5489\tVal loss: 0.6593\tVal Acc: 0.6203893442622951\n",
      "EPOCH 36:\tTrain loss: 0.5452\tVal loss: 0.6527\tVal Acc: 0.6352459016393442\n",
      "EPOCH 37:\tTrain loss: 0.5388\tVal loss: 0.6544\tVal Acc: 0.6255122950819673\n",
      "EPOCH 38:\tTrain loss: 0.5402\tVal loss: 0.6528\tVal Acc: 0.6311475409836066\n",
      "EPOCH 39:\tTrain loss: 0.5399\tVal loss: 0.6489\tVal Acc: 0.6429303278688525\n",
      "EPOCH 40:\tTrain loss: 0.5371\tVal loss: 0.6632\tVal Acc: 0.6193647540983607\n",
      "EPOCH 41:\tTrain loss: 0.5334\tVal loss: 0.6552\tVal Acc: 0.6290983606557377\n",
      "EPOCH 42:\tTrain loss: 0.5308\tVal loss: 0.6560\tVal Acc: 0.632172131147541\n",
      "EPOCH 43:\tTrain loss: 0.5253\tVal loss: 0.6503\tVal Acc: 0.6444672131147541\n",
      "EPOCH 44:\tTrain loss: 0.5273\tVal loss: 0.6584\tVal Acc: 0.639344262295082\n",
      "EPOCH 45:\tTrain loss: 0.5294\tVal loss: 0.6500\tVal Acc: 0.6449795081967213\n",
      "EPOCH 46:\tTrain loss: 0.5164\tVal loss: 0.6518\tVal Acc: 0.6362704918032787\n",
      "EPOCH 47:\tTrain loss: 0.5226\tVal loss: 0.6469\tVal Acc: 0.6526639344262295\n",
      "EPOCH 48:\tTrain loss: 0.5186\tVal loss: 0.6516\tVal Acc: 0.6347336065573771\n",
      "EPOCH 49:\tTrain loss: 0.5192\tVal loss: 0.6475\tVal Acc: 0.6536885245901639\n",
      "EPOCH 50:\tTrain loss: 0.5121\tVal loss: 0.6461\tVal Acc: 0.6547131147540983\n"
     ]
    }
   ],
   "source": [
    "train_losses, val_losses = fit(\n",
    "    model,\n",
    "    train_loader,\n",
    "    val_loader,\n",
    "    criterion,\n",
    "    optimizer,\n",
    "    scheduler,\n",
    "    epochs\n",
    ")"
   ]
  },
  {
   "cell_type": "code",
   "execution_count": 164,
   "metadata": {
    "id": "xIobHWIptBQm"
   },
   "outputs": [
    {
     "data": {
      "image/png": "[encoded data removed]",
      "text/plain": [
       "<Figure size 1200x500 with 2 Axes>"
      ]
     },
     "metadata": {},
     "output_type": "display_data"
    }
   ],
   "source": [
    "fig, ax = plt.subplots(1, 2, figsize=(12, 5))\n",
    "ax[0].plot(train_losses)\n",
    "ax[0].set_title('Training Loss')\n",
    "ax[0].set_xlabel('Epoch')\n",
    "ax[0].set_ylabel('Loss')\n",
    "ax[1].plot(val_losses, color='orange')\n",
    "ax[1].set_title('Val Loss')\n",
    "ax[1].set_xlabel('Epoch')\n",
    "ax[1].set_ylabel('Loss')\n",
    "plt.show()"
   ]
  },
  {
   "cell_type": "markdown",
   "metadata": {
    "id": "JPFgeiArr6zp"
   },
   "source": [
    "## 7. Evaluation"
   ]
  },
  {
   "cell_type": "code",
   "execution_count": 166,
   "metadata": {
    "colab": {
     "base_uri": "https://localhost:8080/"
    },
    "id": "psvbHQpis5bm",
    "outputId": "2c745e13-4187-4718-f0b5-5c0042ef9311"
   },
   "outputs": [
    {
     "name": "stdout",
     "output_type": "stream",
     "text": [
      "Evaluation on val/test dataset\n",
      "Val accuracy:  0.6547131147540983\n",
      "Test accuracy:  0.6364985163204748\n"
     ]
    }
   ],
   "source": [
    "val_loss, val_acc = evaluate(\n",
    "    model,\n",
    "    val_loader,\n",
    "    criterion\n",
    ")\n",
    "test_loss, test_acc = evaluate(\n",
    "    model,\n",
    "    test_loader,\n",
    "    criterion\n",
    ")\n",
    "\n",
    "print('Evaluation on val/test dataset')\n",
    "print('Val accuracy: ', val_acc)\n",
    "print('Test accuracy: ', test_acc)"
   ]
  }
 ],
 "metadata": {
  "accelerator": "GPU",
  "colab": {
   "provenance": []
  },
  "kernelspec": {
   "display_name": "Python 3 (ipykernel)",
   "language": "python",
   "name": "python3"
  },
  "language_info": {
   "codemirror_mode": {
    "name": "ipython",
    "version": 3
   },
   "file_extension": ".py",
   "mimetype": "text/x-python",
   "name": "python",
   "nbconvert_exporter": "python",
   "pygments_lexer": "ipython3",
   "version": "3.11.5"
  },
  "varInspector": {
   "cols": {
    "lenName": 16,
    "lenType": 16,
    "lenVar": 40
   },
   "kernels_config": {
    "python": {
     "delete_cmd_postfix": "",
     "delete_cmd_prefix": "del ",
     "library": "var_list.py",
     "varRefreshCmd": "print(var_dic_list())"
    },
    "r": {
     "delete_cmd_postfix": ") ",
     "delete_cmd_prefix": "rm(",
     "library": "var_list.r",
     "varRefreshCmd": "cat(var_dic_list()) "
    }
   },
   "types_to_exclude": [
    "module",
    "function",
    "builtin_function_or_method",
    "instance",
    "_Feature"
   ],
   "window_display": false
  }
 },
 "nbformat": 4,
 "nbformat_minor": 1
}
